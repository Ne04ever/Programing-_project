{
 "cells": [
  {
   "cell_type": "code",
   "execution_count": 1,
   "id": "800e7f6b",
   "metadata": {},
   "outputs": [],
   "source": [
    "import pandas as pd"
   ]
  },
  {
   "cell_type": "code",
   "execution_count": 2,
   "id": "b53be8ff",
   "metadata": {},
   "outputs": [
    {
     "data": {
      "text/html": [
       "<div>\n",
       "<style scoped>\n",
       "    .dataframe tbody tr th:only-of-type {\n",
       "        vertical-align: middle;\n",
       "    }\n",
       "\n",
       "    .dataframe tbody tr th {\n",
       "        vertical-align: top;\n",
       "    }\n",
       "\n",
       "    .dataframe thead th {\n",
       "        text-align: right;\n",
       "    }\n",
       "</style>\n",
       "<table border=\"1\" class=\"dataframe\">\n",
       "  <thead>\n",
       "    <tr style=\"text-align: right;\">\n",
       "      <th></th>\n",
       "      <th>count</th>\n",
       "      <th>mean</th>\n",
       "      <th>std</th>\n",
       "      <th>min</th>\n",
       "      <th>25%</th>\n",
       "      <th>50%</th>\n",
       "      <th>75%</th>\n",
       "      <th>max</th>\n",
       "    </tr>\n",
       "  </thead>\n",
       "  <tbody>\n",
       "    <tr>\n",
       "      <th>Unnamed: 0</th>\n",
       "      <td>21287.0</td>\n",
       "      <td>8726.930004</td>\n",
       "      <td>5838.804783</td>\n",
       "      <td>0.000</td>\n",
       "      <td>3192.500</td>\n",
       "      <td>8514.000</td>\n",
       "      <td>13835.50</td>\n",
       "      <td>19157.000</td>\n",
       "    </tr>\n",
       "    <tr>\n",
       "      <th>enrollee_id</th>\n",
       "      <td>21287.0</td>\n",
       "      <td>16873.983652</td>\n",
       "      <td>9612.131237</td>\n",
       "      <td>1.000</td>\n",
       "      <td>8554.500</td>\n",
       "      <td>16967.000</td>\n",
       "      <td>25161.50</td>\n",
       "      <td>33380.000</td>\n",
       "    </tr>\n",
       "    <tr>\n",
       "      <th>city_development_index</th>\n",
       "      <td>21287.0</td>\n",
       "      <td>0.828462</td>\n",
       "      <td>0.123537</td>\n",
       "      <td>0.448</td>\n",
       "      <td>0.739</td>\n",
       "      <td>0.903</td>\n",
       "      <td>0.92</td>\n",
       "      <td>0.949</td>\n",
       "    </tr>\n",
       "    <tr>\n",
       "      <th>training_hours</th>\n",
       "      <td>21287.0</td>\n",
       "      <td>65.328510</td>\n",
       "      <td>60.075201</td>\n",
       "      <td>1.000</td>\n",
       "      <td>23.000</td>\n",
       "      <td>47.000</td>\n",
       "      <td>88.00</td>\n",
       "      <td>336.000</td>\n",
       "    </tr>\n",
       "    <tr>\n",
       "      <th>target</th>\n",
       "      <td>19158.0</td>\n",
       "      <td>0.249348</td>\n",
       "      <td>0.432647</td>\n",
       "      <td>0.000</td>\n",
       "      <td>0.000</td>\n",
       "      <td>0.000</td>\n",
       "      <td>0.00</td>\n",
       "      <td>1.000</td>\n",
       "    </tr>\n",
       "  </tbody>\n",
       "</table>\n",
       "</div>"
      ],
      "text/plain": [
       "                          count          mean          std    min       25%  \\\n",
       "Unnamed: 0              21287.0   8726.930004  5838.804783  0.000  3192.500   \n",
       "enrollee_id             21287.0  16873.983652  9612.131237  1.000  8554.500   \n",
       "city_development_index  21287.0      0.828462     0.123537  0.448     0.739   \n",
       "training_hours          21287.0     65.328510    60.075201  1.000    23.000   \n",
       "target                  19158.0      0.249348     0.432647  0.000     0.000   \n",
       "\n",
       "                              50%       75%        max  \n",
       "Unnamed: 0               8514.000  13835.50  19157.000  \n",
       "enrollee_id             16967.000  25161.50  33380.000  \n",
       "city_development_index      0.903      0.92      0.949  \n",
       "training_hours             47.000     88.00    336.000  \n",
       "target                      0.000      0.00      1.000  "
      ]
     },
     "execution_count": 2,
     "metadata": {},
     "output_type": "execute_result"
    }
   ],
   "source": [
    "data = pd.read_csv('df.csv',index_col= False)\n",
    "data.describe().T"
   ]
  },
  {
   "cell_type": "code",
   "execution_count": 3,
   "id": "cccb7a02",
   "metadata": {},
   "outputs": [
    {
     "name": "stdout",
     "output_type": "stream",
     "text": [
      "<class 'pandas.core.frame.DataFrame'>\n",
      "RangeIndex: 21287 entries, 0 to 21286\n",
      "Data columns (total 15 columns):\n",
      " #   Column                  Non-Null Count  Dtype  \n",
      "---  ------                  --------------  -----  \n",
      " 0   Unnamed: 0              21287 non-null  int64  \n",
      " 1   enrollee_id             21287 non-null  int64  \n",
      " 2   city                    21287 non-null  object \n",
      " 3   city_development_index  21287 non-null  float64\n",
      " 4   gender                  16271 non-null  object \n",
      " 5   relevent_experience     21287 non-null  object \n",
      " 6   enrolled_university     20870 non-null  object \n",
      " 7   education_level         20775 non-null  object \n",
      " 8   major_discipline        18162 non-null  object \n",
      " 9   experience              21217 non-null  object \n",
      " 10  company_size            14727 non-null  object \n",
      " 11  company_type            14513 non-null  object \n",
      " 12  last_new_job            20824 non-null  object \n",
      " 13  training_hours          21287 non-null  int64  \n",
      " 14  target                  19158 non-null  float64\n",
      "dtypes: float64(2), int64(3), object(10)\n",
      "memory usage: 2.4+ MB\n"
     ]
    }
   ],
   "source": [
    "data.info()"
   ]
  },
  {
   "cell_type": "code",
   "execution_count": 4,
   "id": "e5366f56",
   "metadata": {},
   "outputs": [
    {
     "data": {
      "text/html": [
       "<div>\n",
       "<style scoped>\n",
       "    .dataframe tbody tr th:only-of-type {\n",
       "        vertical-align: middle;\n",
       "    }\n",
       "\n",
       "    .dataframe tbody tr th {\n",
       "        vertical-align: top;\n",
       "    }\n",
       "\n",
       "    .dataframe thead th {\n",
       "        text-align: right;\n",
       "    }\n",
       "</style>\n",
       "<table border=\"1\" class=\"dataframe\">\n",
       "  <thead>\n",
       "    <tr style=\"text-align: right;\">\n",
       "      <th></th>\n",
       "      <th>Unnamed: 0</th>\n",
       "      <th>enrollee_id</th>\n",
       "      <th>city</th>\n",
       "      <th>city_development_index</th>\n",
       "      <th>gender</th>\n",
       "      <th>relevent_experience</th>\n",
       "      <th>enrolled_university</th>\n",
       "      <th>education_level</th>\n",
       "      <th>major_discipline</th>\n",
       "      <th>experience</th>\n",
       "      <th>company_size</th>\n",
       "      <th>company_type</th>\n",
       "      <th>last_new_job</th>\n",
       "      <th>training_hours</th>\n",
       "      <th>target</th>\n",
       "    </tr>\n",
       "  </thead>\n",
       "  <tbody>\n",
       "    <tr>\n",
       "      <th>0</th>\n",
       "      <td>0</td>\n",
       "      <td>8949</td>\n",
       "      <td>city_103</td>\n",
       "      <td>0.920</td>\n",
       "      <td>Male</td>\n",
       "      <td>Has relevent experience</td>\n",
       "      <td>no_enrollment</td>\n",
       "      <td>Graduate</td>\n",
       "      <td>STEM</td>\n",
       "      <td>&gt;20</td>\n",
       "      <td>NaN</td>\n",
       "      <td>NaN</td>\n",
       "      <td>1</td>\n",
       "      <td>36</td>\n",
       "      <td>1.0</td>\n",
       "    </tr>\n",
       "    <tr>\n",
       "      <th>1</th>\n",
       "      <td>1</td>\n",
       "      <td>29725</td>\n",
       "      <td>city_40</td>\n",
       "      <td>0.776</td>\n",
       "      <td>Male</td>\n",
       "      <td>No relevent experience</td>\n",
       "      <td>no_enrollment</td>\n",
       "      <td>Graduate</td>\n",
       "      <td>STEM</td>\n",
       "      <td>15</td>\n",
       "      <td>50-99</td>\n",
       "      <td>Pvt Ltd</td>\n",
       "      <td>&gt;4</td>\n",
       "      <td>47</td>\n",
       "      <td>0.0</td>\n",
       "    </tr>\n",
       "    <tr>\n",
       "      <th>2</th>\n",
       "      <td>2</td>\n",
       "      <td>11561</td>\n",
       "      <td>city_21</td>\n",
       "      <td>0.624</td>\n",
       "      <td>NaN</td>\n",
       "      <td>No relevent experience</td>\n",
       "      <td>Full time course</td>\n",
       "      <td>Graduate</td>\n",
       "      <td>STEM</td>\n",
       "      <td>5</td>\n",
       "      <td>NaN</td>\n",
       "      <td>NaN</td>\n",
       "      <td>never</td>\n",
       "      <td>83</td>\n",
       "      <td>0.0</td>\n",
       "    </tr>\n",
       "    <tr>\n",
       "      <th>3</th>\n",
       "      <td>3</td>\n",
       "      <td>33241</td>\n",
       "      <td>city_115</td>\n",
       "      <td>0.789</td>\n",
       "      <td>NaN</td>\n",
       "      <td>No relevent experience</td>\n",
       "      <td>NaN</td>\n",
       "      <td>Graduate</td>\n",
       "      <td>Business Degree</td>\n",
       "      <td>&lt;1</td>\n",
       "      <td>NaN</td>\n",
       "      <td>Pvt Ltd</td>\n",
       "      <td>never</td>\n",
       "      <td>52</td>\n",
       "      <td>1.0</td>\n",
       "    </tr>\n",
       "    <tr>\n",
       "      <th>4</th>\n",
       "      <td>4</td>\n",
       "      <td>666</td>\n",
       "      <td>city_162</td>\n",
       "      <td>0.767</td>\n",
       "      <td>Male</td>\n",
       "      <td>Has relevent experience</td>\n",
       "      <td>no_enrollment</td>\n",
       "      <td>Masters</td>\n",
       "      <td>STEM</td>\n",
       "      <td>&gt;20</td>\n",
       "      <td>50-99</td>\n",
       "      <td>Funded Startup</td>\n",
       "      <td>4</td>\n",
       "      <td>8</td>\n",
       "      <td>0.0</td>\n",
       "    </tr>\n",
       "  </tbody>\n",
       "</table>\n",
       "</div>"
      ],
      "text/plain": [
       "   Unnamed: 0  enrollee_id      city  city_development_index gender  \\\n",
       "0           0         8949  city_103                   0.920   Male   \n",
       "1           1        29725   city_40                   0.776   Male   \n",
       "2           2        11561   city_21                   0.624    NaN   \n",
       "3           3        33241  city_115                   0.789    NaN   \n",
       "4           4          666  city_162                   0.767   Male   \n",
       "\n",
       "       relevent_experience enrolled_university education_level  \\\n",
       "0  Has relevent experience       no_enrollment        Graduate   \n",
       "1   No relevent experience       no_enrollment        Graduate   \n",
       "2   No relevent experience    Full time course        Graduate   \n",
       "3   No relevent experience                 NaN        Graduate   \n",
       "4  Has relevent experience       no_enrollment         Masters   \n",
       "\n",
       "  major_discipline experience company_size    company_type last_new_job  \\\n",
       "0             STEM        >20          NaN             NaN            1   \n",
       "1             STEM         15        50-99         Pvt Ltd           >4   \n",
       "2             STEM          5          NaN             NaN        never   \n",
       "3  Business Degree         <1          NaN         Pvt Ltd        never   \n",
       "4             STEM        >20        50-99  Funded Startup            4   \n",
       "\n",
       "   training_hours  target  \n",
       "0              36     1.0  \n",
       "1              47     0.0  \n",
       "2              83     0.0  \n",
       "3              52     1.0  \n",
       "4               8     0.0  "
      ]
     },
     "execution_count": 4,
     "metadata": {},
     "output_type": "execute_result"
    }
   ],
   "source": [
    "data.head()"
   ]
  },
  {
   "cell_type": "code",
   "execution_count": 5,
   "id": "75839d15",
   "metadata": {},
   "outputs": [
    {
     "data": {
      "text/plain": [
       "Unnamed: 0                   0\n",
       "enrollee_id                  0\n",
       "city                         0\n",
       "city_development_index       0\n",
       "gender                    5016\n",
       "relevent_experience          0\n",
       "enrolled_university        417\n",
       "education_level            512\n",
       "major_discipline          3125\n",
       "experience                  70\n",
       "company_size              6560\n",
       "company_type              6774\n",
       "last_new_job               463\n",
       "training_hours               0\n",
       "target                    2129\n",
       "dtype: int64"
      ]
     },
     "execution_count": 5,
     "metadata": {},
     "output_type": "execute_result"
    }
   ],
   "source": [
    "data.isnull().sum()"
   ]
  },
  {
   "cell_type": "code",
   "execution_count": 6,
   "id": "41804b06",
   "metadata": {},
   "outputs": [
    {
     "data": {
      "text/html": [
       "<div>\n",
       "<style scoped>\n",
       "    .dataframe tbody tr th:only-of-type {\n",
       "        vertical-align: middle;\n",
       "    }\n",
       "\n",
       "    .dataframe tbody tr th {\n",
       "        vertical-align: top;\n",
       "    }\n",
       "\n",
       "    .dataframe thead th {\n",
       "        text-align: right;\n",
       "    }\n",
       "</style>\n",
       "<table border=\"1\" class=\"dataframe\">\n",
       "  <thead>\n",
       "    <tr style=\"text-align: right;\">\n",
       "      <th></th>\n",
       "      <th>enrollee_id</th>\n",
       "      <th>city</th>\n",
       "      <th>city_development_index</th>\n",
       "      <th>gender</th>\n",
       "      <th>relevent_experience</th>\n",
       "      <th>enrolled_university</th>\n",
       "      <th>education_level</th>\n",
       "      <th>major_discipline</th>\n",
       "      <th>experience</th>\n",
       "      <th>company_size</th>\n",
       "      <th>company_type</th>\n",
       "      <th>last_new_job</th>\n",
       "      <th>training_hours</th>\n",
       "      <th>target</th>\n",
       "    </tr>\n",
       "  </thead>\n",
       "  <tbody>\n",
       "    <tr>\n",
       "      <th>0</th>\n",
       "      <td>8949</td>\n",
       "      <td>city_103</td>\n",
       "      <td>0.920</td>\n",
       "      <td>Male</td>\n",
       "      <td>Has relevent experience</td>\n",
       "      <td>no_enrollment</td>\n",
       "      <td>Graduate</td>\n",
       "      <td>STEM</td>\n",
       "      <td>&gt;20</td>\n",
       "      <td>NaN</td>\n",
       "      <td>NaN</td>\n",
       "      <td>1</td>\n",
       "      <td>36</td>\n",
       "      <td>1.0</td>\n",
       "    </tr>\n",
       "    <tr>\n",
       "      <th>1</th>\n",
       "      <td>29725</td>\n",
       "      <td>city_40</td>\n",
       "      <td>0.776</td>\n",
       "      <td>Male</td>\n",
       "      <td>No relevent experience</td>\n",
       "      <td>no_enrollment</td>\n",
       "      <td>Graduate</td>\n",
       "      <td>STEM</td>\n",
       "      <td>15</td>\n",
       "      <td>50-99</td>\n",
       "      <td>Pvt Ltd</td>\n",
       "      <td>&gt;4</td>\n",
       "      <td>47</td>\n",
       "      <td>0.0</td>\n",
       "    </tr>\n",
       "    <tr>\n",
       "      <th>2</th>\n",
       "      <td>11561</td>\n",
       "      <td>city_21</td>\n",
       "      <td>0.624</td>\n",
       "      <td>NaN</td>\n",
       "      <td>No relevent experience</td>\n",
       "      <td>Full time course</td>\n",
       "      <td>Graduate</td>\n",
       "      <td>STEM</td>\n",
       "      <td>5</td>\n",
       "      <td>NaN</td>\n",
       "      <td>NaN</td>\n",
       "      <td>never</td>\n",
       "      <td>83</td>\n",
       "      <td>0.0</td>\n",
       "    </tr>\n",
       "    <tr>\n",
       "      <th>3</th>\n",
       "      <td>33241</td>\n",
       "      <td>city_115</td>\n",
       "      <td>0.789</td>\n",
       "      <td>NaN</td>\n",
       "      <td>No relevent experience</td>\n",
       "      <td>NaN</td>\n",
       "      <td>Graduate</td>\n",
       "      <td>Business Degree</td>\n",
       "      <td>&lt;1</td>\n",
       "      <td>NaN</td>\n",
       "      <td>Pvt Ltd</td>\n",
       "      <td>never</td>\n",
       "      <td>52</td>\n",
       "      <td>1.0</td>\n",
       "    </tr>\n",
       "    <tr>\n",
       "      <th>4</th>\n",
       "      <td>666</td>\n",
       "      <td>city_162</td>\n",
       "      <td>0.767</td>\n",
       "      <td>Male</td>\n",
       "      <td>Has relevent experience</td>\n",
       "      <td>no_enrollment</td>\n",
       "      <td>Masters</td>\n",
       "      <td>STEM</td>\n",
       "      <td>&gt;20</td>\n",
       "      <td>50-99</td>\n",
       "      <td>Funded Startup</td>\n",
       "      <td>4</td>\n",
       "      <td>8</td>\n",
       "      <td>0.0</td>\n",
       "    </tr>\n",
       "    <tr>\n",
       "      <th>...</th>\n",
       "      <td>...</td>\n",
       "      <td>...</td>\n",
       "      <td>...</td>\n",
       "      <td>...</td>\n",
       "      <td>...</td>\n",
       "      <td>...</td>\n",
       "      <td>...</td>\n",
       "      <td>...</td>\n",
       "      <td>...</td>\n",
       "      <td>...</td>\n",
       "      <td>...</td>\n",
       "      <td>...</td>\n",
       "      <td>...</td>\n",
       "      <td>...</td>\n",
       "    </tr>\n",
       "    <tr>\n",
       "      <th>21282</th>\n",
       "      <td>1289</td>\n",
       "      <td>city_103</td>\n",
       "      <td>0.920</td>\n",
       "      <td>Male</td>\n",
       "      <td>No relevent experience</td>\n",
       "      <td>no_enrollment</td>\n",
       "      <td>Graduate</td>\n",
       "      <td>Humanities</td>\n",
       "      <td>16</td>\n",
       "      <td>NaN</td>\n",
       "      <td>Public Sector</td>\n",
       "      <td>4</td>\n",
       "      <td>15</td>\n",
       "      <td>NaN</td>\n",
       "    </tr>\n",
       "    <tr>\n",
       "      <th>21283</th>\n",
       "      <td>195</td>\n",
       "      <td>city_136</td>\n",
       "      <td>0.897</td>\n",
       "      <td>Male</td>\n",
       "      <td>Has relevent experience</td>\n",
       "      <td>no_enrollment</td>\n",
       "      <td>Masters</td>\n",
       "      <td>STEM</td>\n",
       "      <td>18</td>\n",
       "      <td>NaN</td>\n",
       "      <td>NaN</td>\n",
       "      <td>2</td>\n",
       "      <td>30</td>\n",
       "      <td>NaN</td>\n",
       "    </tr>\n",
       "    <tr>\n",
       "      <th>21284</th>\n",
       "      <td>31762</td>\n",
       "      <td>city_100</td>\n",
       "      <td>0.887</td>\n",
       "      <td>Male</td>\n",
       "      <td>No relevent experience</td>\n",
       "      <td>no_enrollment</td>\n",
       "      <td>Primary School</td>\n",
       "      <td>NaN</td>\n",
       "      <td>3</td>\n",
       "      <td>NaN</td>\n",
       "      <td>Pvt Ltd</td>\n",
       "      <td>never</td>\n",
       "      <td>18</td>\n",
       "      <td>NaN</td>\n",
       "    </tr>\n",
       "    <tr>\n",
       "      <th>21285</th>\n",
       "      <td>7873</td>\n",
       "      <td>city_102</td>\n",
       "      <td>0.804</td>\n",
       "      <td>Male</td>\n",
       "      <td>Has relevent experience</td>\n",
       "      <td>Full time course</td>\n",
       "      <td>High School</td>\n",
       "      <td>NaN</td>\n",
       "      <td>7</td>\n",
       "      <td>100-500</td>\n",
       "      <td>Public Sector</td>\n",
       "      <td>1</td>\n",
       "      <td>84</td>\n",
       "      <td>NaN</td>\n",
       "    </tr>\n",
       "    <tr>\n",
       "      <th>21286</th>\n",
       "      <td>12215</td>\n",
       "      <td>city_102</td>\n",
       "      <td>0.804</td>\n",
       "      <td>Male</td>\n",
       "      <td>Has relevent experience</td>\n",
       "      <td>no_enrollment</td>\n",
       "      <td>Masters</td>\n",
       "      <td>STEM</td>\n",
       "      <td>15</td>\n",
       "      <td>10000+</td>\n",
       "      <td>Pvt Ltd</td>\n",
       "      <td>2</td>\n",
       "      <td>11</td>\n",
       "      <td>NaN</td>\n",
       "    </tr>\n",
       "  </tbody>\n",
       "</table>\n",
       "<p>21287 rows × 14 columns</p>\n",
       "</div>"
      ],
      "text/plain": [
       "       enrollee_id      city  city_development_index gender  \\\n",
       "0             8949  city_103                   0.920   Male   \n",
       "1            29725   city_40                   0.776   Male   \n",
       "2            11561   city_21                   0.624    NaN   \n",
       "3            33241  city_115                   0.789    NaN   \n",
       "4              666  city_162                   0.767   Male   \n",
       "...            ...       ...                     ...    ...   \n",
       "21282         1289  city_103                   0.920   Male   \n",
       "21283          195  city_136                   0.897   Male   \n",
       "21284        31762  city_100                   0.887   Male   \n",
       "21285         7873  city_102                   0.804   Male   \n",
       "21286        12215  city_102                   0.804   Male   \n",
       "\n",
       "           relevent_experience enrolled_university education_level  \\\n",
       "0      Has relevent experience       no_enrollment        Graduate   \n",
       "1       No relevent experience       no_enrollment        Graduate   \n",
       "2       No relevent experience    Full time course        Graduate   \n",
       "3       No relevent experience                 NaN        Graduate   \n",
       "4      Has relevent experience       no_enrollment         Masters   \n",
       "...                        ...                 ...             ...   \n",
       "21282   No relevent experience       no_enrollment        Graduate   \n",
       "21283  Has relevent experience       no_enrollment         Masters   \n",
       "21284   No relevent experience       no_enrollment  Primary School   \n",
       "21285  Has relevent experience    Full time course     High School   \n",
       "21286  Has relevent experience       no_enrollment         Masters   \n",
       "\n",
       "      major_discipline experience company_size    company_type last_new_job  \\\n",
       "0                 STEM        >20          NaN             NaN            1   \n",
       "1                 STEM         15        50-99         Pvt Ltd           >4   \n",
       "2                 STEM          5          NaN             NaN        never   \n",
       "3      Business Degree         <1          NaN         Pvt Ltd        never   \n",
       "4                 STEM        >20        50-99  Funded Startup            4   \n",
       "...                ...        ...          ...             ...          ...   \n",
       "21282       Humanities         16          NaN   Public Sector            4   \n",
       "21283             STEM         18          NaN             NaN            2   \n",
       "21284              NaN          3          NaN         Pvt Ltd        never   \n",
       "21285              NaN          7      100-500   Public Sector            1   \n",
       "21286             STEM         15       10000+         Pvt Ltd            2   \n",
       "\n",
       "       training_hours  target  \n",
       "0                  36     1.0  \n",
       "1                  47     0.0  \n",
       "2                  83     0.0  \n",
       "3                  52     1.0  \n",
       "4                   8     0.0  \n",
       "...               ...     ...  \n",
       "21282              15     NaN  \n",
       "21283              30     NaN  \n",
       "21284              18     NaN  \n",
       "21285              84     NaN  \n",
       "21286              11     NaN  \n",
       "\n",
       "[21287 rows x 14 columns]"
      ]
     },
     "execution_count": 6,
     "metadata": {},
     "output_type": "execute_result"
    }
   ],
   "source": [
    "#going through each columns to clean\n",
    "#droping unwanted columns\n",
    "data.drop('Unnamed: 0', axis = 1)"
   ]
  },
  {
   "cell_type": "code",
   "execution_count": 7,
   "id": "f3c9f812",
   "metadata": {},
   "outputs": [
    {
     "data": {
      "text/plain": [
       "103    4828\n",
       "21     3020\n",
       "16     1701\n",
       "114    1491\n",
       "160     958\n",
       "       ... \n",
       "166       4\n",
       "111       3\n",
       "129       3\n",
       "171       2\n",
       "140       1\n",
       "Name: city_id, Length: 123, dtype: int64"
      ]
     },
     "execution_count": 7,
     "metadata": {},
     "output_type": "execute_result"
    }
   ],
   "source": [
    "#parsing city\n",
    "data['city_id'] = data['city'].apply(lambda x: x.split('_')[1])\n",
    "data['city_id'].value_counts()"
   ]
  },
  {
   "cell_type": "code",
   "execution_count": 8,
   "id": "40020c7f",
   "metadata": {},
   "outputs": [
    {
     "data": {
      "text/plain": [
       "92.0    5786\n",
       "62.4    3020\n",
       "91.0    1701\n",
       "92.6    1491\n",
       "69.8     770\n",
       "        ... \n",
       "78.1       4\n",
       "64.9       4\n",
       "82.4       4\n",
       "62.5       3\n",
       "66.4       2\n",
       "Name: city_dev_perc, Length: 93, dtype: int64"
      ]
     },
     "execution_count": 8,
     "metadata": {},
     "output_type": "execute_result"
    }
   ],
   "source": [
    "#city development percentage\n",
    "data['city_dev_perc'] = data['city_development_index'].apply(lambda x: x*100)\n",
    "data.city_dev_perc.value_counts()"
   ]
  },
  {
   "cell_type": "code",
   "execution_count": 9,
   "id": "a532b089",
   "metadata": {},
   "outputs": [
    {
     "data": {
      "text/plain": [
       ">20    3669\n",
       "5      1593\n",
       "4      1548\n",
       "3      1508\n",
       "6      1346\n",
       "2      1255\n",
       "7      1144\n",
       "9      1093\n",
       "10     1081\n",
       "8       884\n",
       "11      750\n",
       "15      745\n",
       "14      641\n",
       "1       605\n",
       "<1      596\n",
       "16      576\n",
       "12      546\n",
       "13      453\n",
       "17      378\n",
       "19      333\n",
       "18      306\n",
       "20      167\n",
       "Name: experience, dtype: int64"
      ]
     },
     "execution_count": 9,
     "metadata": {},
     "output_type": "execute_result"
    }
   ],
   "source": [
    "data.experience.value_counts()"
   ]
  },
  {
   "cell_type": "code",
   "execution_count": 10,
   "id": "f70e69d2",
   "metadata": {},
   "outputs": [],
   "source": [
    "#creating experience class\n",
    "entry = ['1','<1']\n",
    "mid = ['2','3','4','5','6','7','8','9']\n",
    "senior = ['10','11','12','13','14']\n",
    "expert = ['15','16','17','18','19','20','>20']\n",
    "def exp_class(exp):\n",
    "    if exp in entry:\n",
    "        return 'entry_lvl'\n",
    "    elif exp in mid:\n",
    "        return 'mid_lvl'\n",
    "    elif exp in senior:\n",
    "        return 'senior_lvl'\n",
    "    elif exp in expert:\n",
    "        return 'expert_lvl'\n",
    "    else:\n",
    "        return 'unknown'        "
   ]
  },
  {
   "cell_type": "code",
   "execution_count": 11,
   "id": "173b0807",
   "metadata": {},
   "outputs": [
    {
     "data": {
      "text/plain": [
       "mid_lvl       10371\n",
       "expert_lvl     6174\n",
       "senior_lvl     3471\n",
       "entry_lvl      1201\n",
       "unknown          70\n",
       "Name: experience_lvl, dtype: int64"
      ]
     },
     "execution_count": 11,
     "metadata": {},
     "output_type": "execute_result"
    }
   ],
   "source": [
    "data['experience_lvl'] = data['experience'].apply(exp_class)\n",
    "data.experience_lvl.value_counts()"
   ]
  },
  {
   "cell_type": "code",
   "execution_count": 12,
   "id": "cffa43e4",
   "metadata": {},
   "outputs": [],
   "source": [
    "#fixing some errors in companysize column\n",
    "#data.company_size.value_counts()"
   ]
  },
  {
   "cell_type": "code",
   "execution_count": 13,
   "id": "230f3f84",
   "metadata": {},
   "outputs": [
    {
     "data": {
      "text/plain": [
       "50-99        3421\n",
       "100-500      2889\n",
       "10000+       2236\n",
       "10-49        1643\n",
       "<10          1471\n",
       "1000-4999    1471\n",
       "500-999       965\n",
       "5000-9999     631\n",
       "Name: company_size, dtype: int64"
      ]
     },
     "execution_count": 13,
     "metadata": {},
     "output_type": "execute_result"
    }
   ],
   "source": [
    "data.company_size = data.company_size.replace('10/49','10-49')\n",
    "data.company_size.value_counts()"
   ]
  },
  {
   "cell_type": "code",
   "execution_count": 14,
   "id": "f7662090",
   "metadata": {},
   "outputs": [],
   "source": [
    "#classifiying company by company size\n",
    "small = ['<10','10-49','50-99']\n",
    "mid_sized = ['100-500','500-999']\n",
    "large = ['1000-4999','5000-9999']\n",
    "very_large = ['10000+']\n",
    "def com_class(size):\n",
    "    if size in small:\n",
    "        return 'small_company'\n",
    "    elif size in mid_sized:\n",
    "        return 'mid_size_company'\n",
    "    elif size in large:\n",
    "        return 'large_company'\n",
    "    elif size in very_large:\n",
    "        return 'very_large_company'\n",
    "    else:\n",
    "        return 'unknown'        "
   ]
  },
  {
   "cell_type": "code",
   "execution_count": 15,
   "id": "a80a7625",
   "metadata": {},
   "outputs": [
    {
     "data": {
      "text/plain": [
       "unknown               6560\n",
       "small_company         6535\n",
       "mid_size_company      3854\n",
       "very_large_company    2236\n",
       "large_company         2102\n",
       "Name: company_class, dtype: int64"
      ]
     },
     "execution_count": 15,
     "metadata": {},
     "output_type": "execute_result"
    }
   ],
   "source": [
    "data['company_class'] = data.company_size.apply(com_class)\n",
    "data.company_class.value_counts()"
   ]
  },
  {
   "cell_type": "code",
   "execution_count": 16,
   "id": "4ab42dd0",
   "metadata": {},
   "outputs": [],
   "source": [
    "#gender\n",
    "def gender_class(x):\n",
    "    if x == 'Male':\n",
    "        return 1 # for male\n",
    "    elif x == 'Female':\n",
    "        return 2 # for female\n",
    "    else:\n",
    "        return 0 #for other"
   ]
  },
  {
   "cell_type": "code",
   "execution_count": 17,
   "id": "4d44a21e",
   "metadata": {},
   "outputs": [
    {
     "data": {
      "text/plain": [
       "1    14681\n",
       "0     5231\n",
       "2     1375\n",
       "Name: gender, dtype: int64"
      ]
     },
     "execution_count": 17,
     "metadata": {},
     "output_type": "execute_result"
    }
   ],
   "source": [
    "data['gender'] = data.gender.apply(gender_class)\n",
    "data.gender.value_counts()"
   ]
  },
  {
   "cell_type": "code",
   "execution_count": 18,
   "id": "325d70dc",
   "metadata": {},
   "outputs": [
    {
     "data": {
      "text/plain": [
       "1     8924\n",
       ">4    3643\n",
       "2     3242\n",
       "0     2710\n",
       "3     1157\n",
       "4     1148\n",
       "Name: last_new_job, dtype: int64"
      ]
     },
     "execution_count": 18,
     "metadata": {},
     "output_type": "execute_result"
    }
   ],
   "source": [
    "data.last_new_job = data.last_new_job.replace('never',0)\n",
    "data.last_new_job.value_counts()"
   ]
  },
  {
   "cell_type": "code",
   "execution_count": 27,
   "id": "ef4b8181",
   "metadata": {},
   "outputs": [
    {
     "data": {
      "text/plain": [
       "Index(['Unnamed: 0', 'enrollee_id', 'city', 'city_development_index', 'gender',\n",
       "       'relevent_experience', 'enrolled_university', 'education_level',\n",
       "       'major_discipline', 'experience', 'company_size', 'company_type',\n",
       "       'last_new_job', 'training_hours', 'target', 'city_id', 'city_dev_perc',\n",
       "       'experience_lvl', 'company_class'],\n",
       "      dtype='object')"
      ]
     },
     "execution_count": 27,
     "metadata": {},
     "output_type": "execute_result"
    }
   ],
   "source": [
    "data.columns"
   ]
  },
  {
   "cell_type": "code",
   "execution_count": 30,
   "id": "ac1b7f39",
   "metadata": {},
   "outputs": [],
   "source": [
    "data_scrubed = data.drop(['Unnamed: 0','company_size'],axis=1) "
   ]
  },
  {
   "cell_type": "code",
   "execution_count": 32,
   "id": "6b167879",
   "metadata": {},
   "outputs": [
    {
     "data": {
      "text/plain": [
       "enrollee_id                  0\n",
       "city                         0\n",
       "city_development_index       0\n",
       "gender                       0\n",
       "relevent_experience          0\n",
       "enrolled_university        417\n",
       "education_level            512\n",
       "major_discipline          3125\n",
       "experience                  70\n",
       "company_type              6774\n",
       "last_new_job               463\n",
       "training_hours               0\n",
       "target                    2129\n",
       "city_id                      0\n",
       "city_dev_perc                0\n",
       "experience_lvl               0\n",
       "company_class                0\n",
       "dtype: int64"
      ]
     },
     "execution_count": 32,
     "metadata": {},
     "output_type": "execute_result"
    }
   ],
   "source": [
    "data_scrubed.isnull().sum()"
   ]
  },
  {
   "cell_type": "code",
   "execution_count": 33,
   "id": "d5ae0613",
   "metadata": {},
   "outputs": [],
   "source": [
    "data_scrubed.to_csv('srubbed')"
   ]
  }
 ],
 "metadata": {
  "kernelspec": {
   "display_name": "Python 3",
   "language": "python",
   "name": "python3"
  },
  "language_info": {
   "codemirror_mode": {
    "name": "ipython",
    "version": 3
   },
   "file_extension": ".py",
   "mimetype": "text/x-python",
   "name": "python",
   "nbconvert_exporter": "python",
   "pygments_lexer": "ipython3",
   "version": "3.8.8"
  }
 },
 "nbformat": 4,
 "nbformat_minor": 5
}
