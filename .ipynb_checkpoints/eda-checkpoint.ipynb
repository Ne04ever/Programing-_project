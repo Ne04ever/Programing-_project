{
 "cells": [
  {
   "cell_type": "code",
   "execution_count": 1,
   "id": "932fb4a4",
   "metadata": {},
   "outputs": [],
   "source": [
    "import pandas as pd\n",
    "import numpy as np\n",
    "import matplotlib.pyplot as plt\n",
    "import seaborn as sns"
   ]
  },
  {
   "cell_type": "code",
   "execution_count": 2,
   "id": "dd965789",
   "metadata": {},
   "outputs": [
    {
     "data": {
      "text/plain": [
       "Index(['Unnamed: 0', 'Unnamed: 0.1', 'enrollee_id', 'city',\n",
       "       'city_development_index', 'gender', 'relevent_experience',\n",
       "       'enrolled_university', 'education_level', 'major_discipline',\n",
       "       'experience', 'company_size', 'company_type', 'last_new_job',\n",
       "       'training_hours', 'target', 'city_id', 'city_dev_perc',\n",
       "       'experience_lvl', 'company_class'],\n",
       "      dtype='object')"
      ]
     },
     "execution_count": 2,
     "metadata": {},
     "output_type": "execute_result"
    }
   ],
   "source": [
    "eda_data = pd.read_csv('scrubbed.csv')\n",
    "eda_data.columns"
   ]
  },
  {
   "cell_type": "code",
   "execution_count": 3,
   "id": "64a4b8f9",
   "metadata": {},
   "outputs": [],
   "source": [
    "eda_df = eda_data[['gender', 'relevent_experience','enrolled_university', 'education_level', 'major_discipline', 'company_type', 'last_new_job','training_hours', 'target', 'city_id', 'city_dev_perc','experience_lvl', 'experience','company_class']]"
   ]
  },
  {
   "cell_type": "code",
   "execution_count": 4,
   "id": "1ac894cd",
   "metadata": {},
   "outputs": [
    {
     "data": {
      "text/html": [
       "<div>\n",
       "<style scoped>\n",
       "    .dataframe tbody tr th:only-of-type {\n",
       "        vertical-align: middle;\n",
       "    }\n",
       "\n",
       "    .dataframe tbody tr th {\n",
       "        vertical-align: top;\n",
       "    }\n",
       "\n",
       "    .dataframe thead th {\n",
       "        text-align: right;\n",
       "    }\n",
       "</style>\n",
       "<table border=\"1\" class=\"dataframe\">\n",
       "  <thead>\n",
       "    <tr style=\"text-align: right;\">\n",
       "      <th></th>\n",
       "      <th>gender</th>\n",
       "      <th>relevent_experience</th>\n",
       "      <th>enrolled_university</th>\n",
       "      <th>education_level</th>\n",
       "      <th>major_discipline</th>\n",
       "      <th>company_type</th>\n",
       "      <th>last_new_job</th>\n",
       "      <th>training_hours</th>\n",
       "      <th>target</th>\n",
       "      <th>city_id</th>\n",
       "      <th>city_dev_perc</th>\n",
       "      <th>experience_lvl</th>\n",
       "      <th>experience</th>\n",
       "      <th>company_class</th>\n",
       "    </tr>\n",
       "  </thead>\n",
       "  <tbody>\n",
       "    <tr>\n",
       "      <th>0</th>\n",
       "      <td>1</td>\n",
       "      <td>1</td>\n",
       "      <td>no_enrollment</td>\n",
       "      <td>Graduate</td>\n",
       "      <td>STEM</td>\n",
       "      <td>NaN</td>\n",
       "      <td>1</td>\n",
       "      <td>36</td>\n",
       "      <td>1.0</td>\n",
       "      <td>103</td>\n",
       "      <td>92.0</td>\n",
       "      <td>expert_lvl</td>\n",
       "      <td>&gt;20</td>\n",
       "      <td>unknown</td>\n",
       "    </tr>\n",
       "    <tr>\n",
       "      <th>1</th>\n",
       "      <td>1</td>\n",
       "      <td>0</td>\n",
       "      <td>no_enrollment</td>\n",
       "      <td>Graduate</td>\n",
       "      <td>STEM</td>\n",
       "      <td>Pvt Ltd</td>\n",
       "      <td>&gt;4</td>\n",
       "      <td>47</td>\n",
       "      <td>0.0</td>\n",
       "      <td>40</td>\n",
       "      <td>77.6</td>\n",
       "      <td>expert_lvl</td>\n",
       "      <td>15</td>\n",
       "      <td>small_company</td>\n",
       "    </tr>\n",
       "    <tr>\n",
       "      <th>2</th>\n",
       "      <td>0</td>\n",
       "      <td>0</td>\n",
       "      <td>Full time course</td>\n",
       "      <td>Graduate</td>\n",
       "      <td>STEM</td>\n",
       "      <td>NaN</td>\n",
       "      <td>0</td>\n",
       "      <td>83</td>\n",
       "      <td>0.0</td>\n",
       "      <td>21</td>\n",
       "      <td>62.4</td>\n",
       "      <td>mid_lvl</td>\n",
       "      <td>5</td>\n",
       "      <td>unknown</td>\n",
       "    </tr>\n",
       "    <tr>\n",
       "      <th>3</th>\n",
       "      <td>0</td>\n",
       "      <td>0</td>\n",
       "      <td>NaN</td>\n",
       "      <td>Graduate</td>\n",
       "      <td>Business Degree</td>\n",
       "      <td>Pvt Ltd</td>\n",
       "      <td>0</td>\n",
       "      <td>52</td>\n",
       "      <td>1.0</td>\n",
       "      <td>115</td>\n",
       "      <td>78.9</td>\n",
       "      <td>entry_lvl</td>\n",
       "      <td>&lt;1</td>\n",
       "      <td>unknown</td>\n",
       "    </tr>\n",
       "    <tr>\n",
       "      <th>4</th>\n",
       "      <td>1</td>\n",
       "      <td>1</td>\n",
       "      <td>no_enrollment</td>\n",
       "      <td>Masters</td>\n",
       "      <td>STEM</td>\n",
       "      <td>Funded Startup</td>\n",
       "      <td>4</td>\n",
       "      <td>8</td>\n",
       "      <td>0.0</td>\n",
       "      <td>162</td>\n",
       "      <td>76.7</td>\n",
       "      <td>expert_lvl</td>\n",
       "      <td>&gt;20</td>\n",
       "      <td>small_company</td>\n",
       "    </tr>\n",
       "  </tbody>\n",
       "</table>\n",
       "</div>"
      ],
      "text/plain": [
       "   gender  relevent_experience enrolled_university education_level  \\\n",
       "0       1                    1       no_enrollment        Graduate   \n",
       "1       1                    0       no_enrollment        Graduate   \n",
       "2       0                    0    Full time course        Graduate   \n",
       "3       0                    0                 NaN        Graduate   \n",
       "4       1                    1       no_enrollment         Masters   \n",
       "\n",
       "  major_discipline    company_type last_new_job  training_hours  target  \\\n",
       "0             STEM             NaN            1              36     1.0   \n",
       "1             STEM         Pvt Ltd           >4              47     0.0   \n",
       "2             STEM             NaN            0              83     0.0   \n",
       "3  Business Degree         Pvt Ltd            0              52     1.0   \n",
       "4             STEM  Funded Startup            4               8     0.0   \n",
       "\n",
       "   city_id  city_dev_perc experience_lvl experience  company_class  \n",
       "0      103           92.0     expert_lvl        >20        unknown  \n",
       "1       40           77.6     expert_lvl         15  small_company  \n",
       "2       21           62.4        mid_lvl          5        unknown  \n",
       "3      115           78.9      entry_lvl         <1        unknown  \n",
       "4      162           76.7     expert_lvl        >20  small_company  "
      ]
     },
     "execution_count": 4,
     "metadata": {},
     "output_type": "execute_result"
    }
   ],
   "source": [
    "eda_df.head()"
   ]
  },
  {
   "cell_type": "markdown",
   "id": "cfcf7872",
   "metadata": {},
   "source": [
    " "
   ]
  },
  {
   "cell_type": "markdown",
   "id": "5908c48b",
   "metadata": {},
   "source": [
    "## Analisng target distribution\n"
   ]
  },
  {
   "cell_type": "code",
   "execution_count": 5,
   "id": "2ffab149",
   "metadata": {},
   "outputs": [
    {
     "data": {
      "image/png": "[encoded data removed]",
      "text/plain": [
       "<Figure size 432x288 with 1 Axes>"
      ]
     },
     "metadata": {},
     "output_type": "display_data"
    }
   ],
   "source": [
    "total = eda_df['target'].value_counts()\n",
    "total.plot.pie(shadow=True, explode=(0,0.1),startangle=0,autopct='%1.1f%%')\n",
    "labels = ['intern stays','intern leaves']\n",
    "plt.legend(labels)\n",
    "plt.axis('equal')\n",
    "plt.show()\n"
   ]
  },
  {
   "cell_type": "markdown",
   "id": "c0f73533",
   "metadata": {},
   "source": [
    "### focusing on interns that stays"
   ]
  },
  {
   "cell_type": "code",
   "execution_count": 6,
   "id": "549d90a4",
   "metadata": {},
   "outputs": [],
   "source": [
    "intern_stays = eda_df.loc[eda_df['target'] == 0]"
   ]
  },
  {
   "cell_type": "code",
   "execution_count": 7,
   "id": "8da5d91d",
   "metadata": {},
   "outputs": [],
   "source": [
    "bar_chart = intern_stays[['gender','relevent_experience','enrolled_university','education_level','major_discipline','company_type','last_new_job','experience_lvl','company_class']]"
   ]
  },
  {
   "cell_type": "markdown",
   "id": "c1229a19",
   "metadata": {},
   "source": [
    "#### creating bar chart to analyse each columns"
   ]
  },
  {
   "cell_type": "code",
   "execution_count": 8,
   "id": "2c941427",
   "metadata": {},
   "outputs": [
    {
     "name": "stdout",
     "output_type": "stream",
     "text": [
      "graph for gender: total = 3\n"
     ]
    },
    {
     "data": {
      "image/png": "[encoded data removed]",
      "text/plain": [
       "<Figure size 432x288 with 1 Axes>"
      ]
     },
     "metadata": {
      "needs_background": "light"
     },
     "output_type": "display_data"
    },
    {
     "name": "stdout",
     "output_type": "stream",
     "text": [
      "graph for relevent_experience: total = 2\n"
     ]
    },
    {
     "data": {
      "image/png": "[encoded data removed]",
      "text/plain": [
       "<Figure size 432x288 with 1 Axes>"
      ]
     },
     "metadata": {
      "needs_background": "light"
     },
     "output_type": "display_data"
    },
    {
     "name": "stdout",
     "output_type": "stream",
     "text": [
      "graph for enrolled_university: total = 3\n"
     ]
    },
    {
     "data": {
      "image/png": "[encoded data removed]",
      "text/plain": [
       "<Figure size 432x288 with 1 Axes>"
      ]
     },
     "metadata": {
      "needs_background": "light"
     },
     "output_type": "display_data"
    },
    {
     "name": "stdout",
     "output_type": "stream",
     "text": [
      "graph for education_level: total = 5\n"
     ]
    },
    {
     "data": {
      "image/png": "[encoded data removed]",
      "text/plain": [
       "<Figure size 432x288 with 1 Axes>"
      ]
     },
     "metadata": {
      "needs_background": "light"
     },
     "output_type": "display_data"
    },
    {
     "name": "stdout",
     "output_type": "stream",
     "text": [
      "graph for major_discipline: total = 6\n"
     ]
    },
    {
     "data": {
      "image/png": "[encoded data removed]",
      "text/plain": [
       "<Figure size 432x288 with 1 Axes>"
      ]
     },
     "metadata": {
      "needs_background": "light"
     },
     "output_type": "display_data"
    },
    {
     "name": "stdout",
     "output_type": "stream",
     "text": [
      "graph for company_type: total = 6\n"
     ]
    },
    {
     "data": {
      "image/png": "[encoded data removed]",
      "text/plain": [
       "<Figure size 432x288 with 1 Axes>"
      ]
     },
     "metadata": {
      "needs_background": "light"
     },
     "output_type": "display_data"
    },
    {
     "name": "stdout",
     "output_type": "stream",
     "text": [
      "graph for last_new_job: total = 6\n"
     ]
    },
    {
     "data": {
      "image/png": "[encoded data removed]",
      "text/plain": [
       "<Figure size 432x288 with 1 Axes>"
      ]
     },
     "metadata": {
      "needs_background": "light"
     },
     "output_type": "display_data"
    },
    {
     "name": "stdout",
     "output_type": "stream",
     "text": [
      "graph for experience_lvl: total = 5\n"
     ]
    },
    {
     "data": {
      "image/png": "[encoded data removed]",
      "text/plain": [
       "<Figure size 432x288 with 1 Axes>"
      ]
     },
     "metadata": {
      "needs_background": "light"
     },
     "output_type": "display_data"
    },
    {
     "name": "stdout",
     "output_type": "stream",
     "text": [
      "graph for company_class: total = 5\n"
     ]
    },
    {
     "data": {
      "image/png": "[encoded data removed]",
      "text/plain": [
       "<Figure size 432x288 with 1 Axes>"
      ]
     },
     "metadata": {
      "needs_background": "light"
     },
     "output_type": "display_data"
    }
   ],
   "source": [
    "for i in bar_chart.columns:\n",
    "    num=bar_chart[i].value_counts()\n",
    "    \n",
    "    print(\"graph for %s: total = %d\" % (i,len(num)))\n",
    "    chart = sns.barplot(x=num.index,y=num)\n",
    "    plt.xticks(rotation=90)\n",
    "    plt.show()"
   ]
  },
  {
   "cell_type": "markdown",
   "id": "b2f746ee",
   "metadata": {},
   "source": [
    "#### Histograms and boxplots for a better understanding of values"
   ]
  },
  {
   "cell_type": "code",
   "execution_count": 9,
   "id": "6e5ec899",
   "metadata": {},
   "outputs": [
    {
     "data": {
      "text/plain": [
       "<AxesSubplot:>"
      ]
     },
     "execution_count": 9,
     "metadata": {},
     "output_type": "execute_result"
    },
    {
     "data": {
      "image/png": "[encoded data removed]",
      "text/plain": [
       "<Figure size 432x288 with 1 Axes>"
      ]
     },
     "metadata": {
      "needs_background": "light"
     },
     "output_type": "display_data"
    }
   ],
   "source": [
    "intern_stays.city_dev_perc.hist()"
   ]
  },
  {
   "cell_type": "code",
   "execution_count": 10,
   "id": "1485f8fd",
   "metadata": {},
   "outputs": [
    {
     "data": {
      "text/plain": [
       "<AxesSubplot:>"
      ]
     },
     "execution_count": 10,
     "metadata": {},
     "output_type": "execute_result"
    },
    {
     "data": {
      "image/png": "[encoded data removed]",
      "text/plain": [
       "<Figure size 432x288 with 1 Axes>"
      ]
     },
     "metadata": {
      "needs_background": "light"
     },
     "output_type": "display_data"
    }
   ],
   "source": [
    "intern_stays.city_id.hist()"
   ]
  },
  {
   "cell_type": "code",
   "execution_count": 11,
   "id": "ec02edc2",
   "metadata": {},
   "outputs": [
    {
     "data": {
      "text/plain": [
       "88.7    210\n",
       "Name: city_dev_perc, dtype: int64"
      ]
     },
     "execution_count": 11,
     "metadata": {},
     "output_type": "execute_result"
    }
   ],
   "source": [
    "intern_stays.city_dev_perc.loc[intern_stays.city_id == 100].value_counts()"
   ]
  },
  {
   "cell_type": "code",
   "execution_count": 12,
   "id": "84f0f542",
   "metadata": {},
   "outputs": [
    {
     "data": {
      "text/plain": [
       "<AxesSubplot:>"
      ]
     },
     "execution_count": 12,
     "metadata": {},
     "output_type": "execute_result"
    },
    {
     "data": {
      "image/png": "[encoded data removed]",
      "text/plain": [
       "<Figure size 432x288 with 1 Axes>"
      ]
     },
     "metadata": {
      "needs_background": "light"
     },
     "output_type": "display_data"
    }
   ],
   "source": [
    "intern_stays.experience.hist()"
   ]
  },
  {
   "cell_type": "markdown",
   "id": "a3e623a9",
   "metadata": {},
   "source": [
    "\n"
   ]
  },
  {
   "cell_type": "code",
   "execution_count": 59,
   "id": "90240659",
   "metadata": {},
   "outputs": [
    {
     "data": {
      "text/plain": [
       "<AxesSubplot:>"
      ]
     },
     "execution_count": 59,
     "metadata": {},
     "output_type": "execute_result"
    },
    {
     "data": {
      "image/png": "[encoded data removed]",
      "text/plain": [
       "<Figure size 432x288 with 1 Axes>"
      ]
     },
     "metadata": {
      "needs_background": "light"
     },
     "output_type": "display_data"
    }
   ],
   "source": [
    "intern_stays.boxplot(column = ['city_dev_perc','training_hours'])"
   ]
  },
  {
   "cell_type": "markdown",
   "id": "2527c7c6",
   "metadata": {},
   "source": [
    " \n",
    " \n",
    " "
   ]
  },
  {
   "cell_type": "markdown",
   "id": "34620f08",
   "metadata": {},
   "source": [
    "## Pivot Tables"
   ]
  },
  {
   "cell_type": "code",
   "execution_count": 13,
   "id": "92205e8a",
   "metadata": {},
   "outputs": [
    {
     "data": {
      "text/plain": [
       "Index(['gender', 'relevent_experience', 'enrolled_university',\n",
       "       'education_level', 'major_discipline', 'company_type', 'last_new_job',\n",
       "       'training_hours', 'target', 'city_id', 'city_dev_perc',\n",
       "       'experience_lvl', 'experience', 'company_class'],\n",
       "      dtype='object')"
      ]
     },
     "execution_count": 13,
     "metadata": {},
     "output_type": "execute_result"
    }
   ],
   "source": [
    "eda_df.columns"
   ]
  },
  {
   "cell_type": "code",
   "execution_count": 22,
   "id": "39b4ba19",
   "metadata": {},
   "outputs": [
    {
     "data": {
      "text/html": [
       "<div>\n",
       "<style scoped>\n",
       "    .dataframe tbody tr th:only-of-type {\n",
       "        vertical-align: middle;\n",
       "    }\n",
       "\n",
       "    .dataframe tbody tr th {\n",
       "        vertical-align: top;\n",
       "    }\n",
       "\n",
       "    .dataframe thead th {\n",
       "        text-align: right;\n",
       "    }\n",
       "</style>\n",
       "<table border=\"1\" class=\"dataframe\">\n",
       "  <thead>\n",
       "    <tr style=\"text-align: right;\">\n",
       "      <th>experience_lvl</th>\n",
       "      <th>entry_lvl</th>\n",
       "      <th>expert_lvl</th>\n",
       "      <th>mid_lvl</th>\n",
       "      <th>senior_lvl</th>\n",
       "      <th>unknown</th>\n",
       "    </tr>\n",
       "    <tr>\n",
       "      <th>target</th>\n",
       "      <th></th>\n",
       "      <th></th>\n",
       "      <th></th>\n",
       "      <th></th>\n",
       "      <th></th>\n",
       "    </tr>\n",
       "  </thead>\n",
       "  <tbody>\n",
       "    <tr>\n",
       "      <th>0.0</th>\n",
       "      <td>79.697837</td>\n",
       "      <td>88.668818</td>\n",
       "      <td>83.081980</td>\n",
       "      <td>86.341099</td>\n",
       "      <td>79.811905</td>\n",
       "    </tr>\n",
       "    <tr>\n",
       "      <th>1.0</th>\n",
       "      <td>70.350426</td>\n",
       "      <td>85.424571</td>\n",
       "      <td>72.850126</td>\n",
       "      <td>77.881388</td>\n",
       "      <td>72.178261</td>\n",
       "    </tr>\n",
       "  </tbody>\n",
       "</table>\n",
       "</div>"
      ],
      "text/plain": [
       "experience_lvl  entry_lvl  expert_lvl    mid_lvl  senior_lvl    unknown\n",
       "target                                                                 \n",
       "0.0             79.697837   88.668818  83.081980   86.341099  79.811905\n",
       "1.0             70.350426   85.424571  72.850126   77.881388  72.178261"
      ]
     },
     "execution_count": 22,
     "metadata": {},
     "output_type": "execute_result"
    }
   ],
   "source": [
    "pd.pivot_table(eda_data, index='target',columns = 'experience_lvl', values='city_dev_perc')"
   ]
  },
  {
   "cell_type": "code",
   "execution_count": 55,
   "id": "ba4d2ff0",
   "metadata": {},
   "outputs": [
    {
     "data": {
      "text/html": [
       "<div>\n",
       "<style scoped>\n",
       "    .dataframe tbody tr th:only-of-type {\n",
       "        vertical-align: middle;\n",
       "    }\n",
       "\n",
       "    .dataframe tbody tr th {\n",
       "        vertical-align: top;\n",
       "    }\n",
       "\n",
       "    .dataframe thead th {\n",
       "        text-align: right;\n",
       "    }\n",
       "</style>\n",
       "<table border=\"1\" class=\"dataframe\">\n",
       "  <thead>\n",
       "    <tr style=\"text-align: right;\">\n",
       "      <th></th>\n",
       "      <th></th>\n",
       "      <th>city_dev_perc</th>\n",
       "    </tr>\n",
       "    <tr>\n",
       "      <th>target</th>\n",
       "      <th>company_class</th>\n",
       "      <th></th>\n",
       "    </tr>\n",
       "  </thead>\n",
       "  <tbody>\n",
       "    <tr>\n",
       "      <th rowspan=\"5\" valign=\"top\">0.0</th>\n",
       "      <th>large_company</th>\n",
       "      <td>87.166960</td>\n",
       "    </tr>\n",
       "    <tr>\n",
       "      <th>mid_size_company</th>\n",
       "      <td>85.666296</td>\n",
       "    </tr>\n",
       "    <tr>\n",
       "      <th>small_company</th>\n",
       "      <td>85.246768</td>\n",
       "    </tr>\n",
       "    <tr>\n",
       "      <th>unknown</th>\n",
       "      <td>83.422222</td>\n",
       "    </tr>\n",
       "    <tr>\n",
       "      <th>very_large_company</th>\n",
       "      <td>87.170379</td>\n",
       "    </tr>\n",
       "    <tr>\n",
       "      <th rowspan=\"5\" valign=\"top\">1.0</th>\n",
       "      <th>large_company</th>\n",
       "      <td>76.558278</td>\n",
       "    </tr>\n",
       "    <tr>\n",
       "      <th>mid_size_company</th>\n",
       "      <td>72.842328</td>\n",
       "    </tr>\n",
       "    <tr>\n",
       "      <th>small_company</th>\n",
       "      <td>70.478706</td>\n",
       "    </tr>\n",
       "    <tr>\n",
       "      <th>unknown</th>\n",
       "      <td>78.726017</td>\n",
       "    </tr>\n",
       "    <tr>\n",
       "      <th>very_large_company</th>\n",
       "      <td>73.798701</td>\n",
       "    </tr>\n",
       "  </tbody>\n",
       "</table>\n",
       "</div>"
      ],
      "text/plain": [
       "                           city_dev_perc\n",
       "target company_class                    \n",
       "0.0    large_company           87.166960\n",
       "       mid_size_company        85.666296\n",
       "       small_company           85.246768\n",
       "       unknown                 83.422222\n",
       "       very_large_company      87.170379\n",
       "1.0    large_company           76.558278\n",
       "       mid_size_company        72.842328\n",
       "       small_company           70.478706\n",
       "       unknown                 78.726017\n",
       "       very_large_company      73.798701"
      ]
     },
     "execution_count": 55,
     "metadata": {},
     "output_type": "execute_result"
    }
   ],
   "source": [
    "pd.pivot_table(eda_data, index=['target','company_class',], values='city_dev_perc')"
   ]
  },
  {
   "cell_type": "code",
   "execution_count": 52,
   "id": "e07c509d",
   "metadata": {},
   "outputs": [
    {
     "data": {
      "text/html": [
       "<div>\n",
       "<style scoped>\n",
       "    .dataframe tbody tr th:only-of-type {\n",
       "        vertical-align: middle;\n",
       "    }\n",
       "\n",
       "    .dataframe tbody tr th {\n",
       "        vertical-align: top;\n",
       "    }\n",
       "\n",
       "    .dataframe thead th {\n",
       "        text-align: right;\n",
       "    }\n",
       "</style>\n",
       "<table border=\"1\" class=\"dataframe\">\n",
       "  <thead>\n",
       "    <tr style=\"text-align: right;\">\n",
       "      <th></th>\n",
       "      <th></th>\n",
       "      <th>training_hours</th>\n",
       "    </tr>\n",
       "    <tr>\n",
       "      <th>target</th>\n",
       "      <th>gender</th>\n",
       "      <th></th>\n",
       "    </tr>\n",
       "  </thead>\n",
       "  <tbody>\n",
       "    <tr>\n",
       "      <th rowspan=\"3\" valign=\"top\">0.0</th>\n",
       "      <th>0</th>\n",
       "      <td>66.675460</td>\n",
       "    </tr>\n",
       "    <tr>\n",
       "      <th>1</th>\n",
       "      <td>65.853365</td>\n",
       "    </tr>\n",
       "    <tr>\n",
       "      <th>2</th>\n",
       "      <td>67.020833</td>\n",
       "    </tr>\n",
       "    <tr>\n",
       "      <th rowspan=\"3\" valign=\"top\">1.0</th>\n",
       "      <th>0</th>\n",
       "      <td>62.806810</td>\n",
       "    </tr>\n",
       "    <tr>\n",
       "      <th>1</th>\n",
       "      <td>63.414011</td>\n",
       "    </tr>\n",
       "    <tr>\n",
       "      <th>2</th>\n",
       "      <td>61.763804</td>\n",
       "    </tr>\n",
       "  </tbody>\n",
       "</table>\n",
       "</div>"
      ],
      "text/plain": [
       "               training_hours\n",
       "target gender                \n",
       "0.0    0            66.675460\n",
       "       1            65.853365\n",
       "       2            67.020833\n",
       "1.0    0            62.806810\n",
       "       1            63.414011\n",
       "       2            61.763804"
      ]
     },
     "execution_count": 52,
     "metadata": {},
     "output_type": "execute_result"
    }
   ],
   "source": [
    "pd.pivot_table(eda_data, index=['target','gender',], values='training_hours')"
   ]
  },
  {
   "cell_type": "code",
   "execution_count": 54,
   "id": "64a4a065",
   "metadata": {},
   "outputs": [
    {
     "data": {
      "text/html": [
       "<div>\n",
       "<style scoped>\n",
       "    .dataframe tbody tr th:only-of-type {\n",
       "        vertical-align: middle;\n",
       "    }\n",
       "\n",
       "    .dataframe tbody tr th {\n",
       "        vertical-align: top;\n",
       "    }\n",
       "\n",
       "    .dataframe thead th {\n",
       "        text-align: right;\n",
       "    }\n",
       "</style>\n",
       "<table border=\"1\" class=\"dataframe\">\n",
       "  <thead>\n",
       "    <tr style=\"text-align: right;\">\n",
       "      <th></th>\n",
       "      <th></th>\n",
       "      <th>training_hours</th>\n",
       "    </tr>\n",
       "    <tr>\n",
       "      <th>target</th>\n",
       "      <th>company_class</th>\n",
       "      <th></th>\n",
       "    </tr>\n",
       "  </thead>\n",
       "  <tbody>\n",
       "    <tr>\n",
       "      <th rowspan=\"5\" valign=\"top\">0.0</th>\n",
       "      <th>large_company</th>\n",
       "      <td>64.281938</td>\n",
       "    </tr>\n",
       "    <tr>\n",
       "      <th>mid_size_company</th>\n",
       "      <td>64.199583</td>\n",
       "    </tr>\n",
       "    <tr>\n",
       "      <th>small_company</th>\n",
       "      <td>68.094967</td>\n",
       "    </tr>\n",
       "    <tr>\n",
       "      <th>unknown</th>\n",
       "      <td>66.521825</td>\n",
       "    </tr>\n",
       "    <tr>\n",
       "      <th>very_large_company</th>\n",
       "      <td>64.630967</td>\n",
       "    </tr>\n",
       "    <tr>\n",
       "      <th rowspan=\"5\" valign=\"top\">1.0</th>\n",
       "      <th>large_company</th>\n",
       "      <td>66.261589</td>\n",
       "    </tr>\n",
       "    <tr>\n",
       "      <th>mid_size_company</th>\n",
       "      <td>63.352734</td>\n",
       "    </tr>\n",
       "    <tr>\n",
       "      <th>small_company</th>\n",
       "      <td>64.045822</td>\n",
       "    </tr>\n",
       "    <tr>\n",
       "      <th>unknown</th>\n",
       "      <td>62.089627</td>\n",
       "    </tr>\n",
       "    <tr>\n",
       "      <th>very_large_company</th>\n",
       "      <td>64.067532</td>\n",
       "    </tr>\n",
       "  </tbody>\n",
       "</table>\n",
       "</div>"
      ],
      "text/plain": [
       "                           training_hours\n",
       "target company_class                     \n",
       "0.0    large_company            64.281938\n",
       "       mid_size_company         64.199583\n",
       "       small_company            68.094967\n",
       "       unknown                  66.521825\n",
       "       very_large_company       64.630967\n",
       "1.0    large_company            66.261589\n",
       "       mid_size_company         63.352734\n",
       "       small_company            64.045822\n",
       "       unknown                  62.089627\n",
       "       very_large_company       64.067532"
      ]
     },
     "execution_count": 54,
     "metadata": {},
     "output_type": "execute_result"
    }
   ],
   "source": [
    "pd.pivot_table(eda_data, index=['target','company_class',], values='training_hours')"
   ]
  },
  {
   "cell_type": "code",
   "execution_count": 60,
   "id": "68db8bb6",
   "metadata": {},
   "outputs": [
    {
     "data": {
      "text/html": [
       "<div>\n",
       "<style scoped>\n",
       "    .dataframe tbody tr th:only-of-type {\n",
       "        vertical-align: middle;\n",
       "    }\n",
       "\n",
       "    .dataframe tbody tr th {\n",
       "        vertical-align: top;\n",
       "    }\n",
       "\n",
       "    .dataframe thead th {\n",
       "        text-align: right;\n",
       "    }\n",
       "</style>\n",
       "<table border=\"1\" class=\"dataframe\">\n",
       "  <thead>\n",
       "    <tr style=\"text-align: right;\">\n",
       "      <th></th>\n",
       "      <th></th>\n",
       "      <th>training_hours</th>\n",
       "    </tr>\n",
       "    <tr>\n",
       "      <th>target</th>\n",
       "      <th>major_discipline</th>\n",
       "      <th></th>\n",
       "    </tr>\n",
       "  </thead>\n",
       "  <tbody>\n",
       "    <tr>\n",
       "      <th rowspan=\"6\" valign=\"top\">0.0</th>\n",
       "      <th>Arts</th>\n",
       "      <td>58.780000</td>\n",
       "    </tr>\n",
       "    <tr>\n",
       "      <th>Business Degree</th>\n",
       "      <td>64.497925</td>\n",
       "    </tr>\n",
       "    <tr>\n",
       "      <th>Humanities</th>\n",
       "      <td>67.225379</td>\n",
       "    </tr>\n",
       "    <tr>\n",
       "      <th>No Major</th>\n",
       "      <td>67.714286</td>\n",
       "    </tr>\n",
       "    <tr>\n",
       "      <th>Other</th>\n",
       "      <td>65.767025</td>\n",
       "    </tr>\n",
       "    <tr>\n",
       "      <th>STEM</th>\n",
       "      <td>66.126437</td>\n",
       "    </tr>\n",
       "    <tr>\n",
       "      <th rowspan=\"6\" valign=\"top\">1.0</th>\n",
       "      <th>Arts</th>\n",
       "      <td>65.905660</td>\n",
       "    </tr>\n",
       "    <tr>\n",
       "      <th>Business Degree</th>\n",
       "      <td>70.930233</td>\n",
       "    </tr>\n",
       "    <tr>\n",
       "      <th>Humanities</th>\n",
       "      <td>59.680851</td>\n",
       "    </tr>\n",
       "    <tr>\n",
       "      <th>No Major</th>\n",
       "      <td>48.363636</td>\n",
       "    </tr>\n",
       "    <tr>\n",
       "      <th>Other</th>\n",
       "      <td>66.823529</td>\n",
       "    </tr>\n",
       "    <tr>\n",
       "      <th>STEM</th>\n",
       "      <td>62.609338</td>\n",
       "    </tr>\n",
       "  </tbody>\n",
       "</table>\n",
       "</div>"
      ],
      "text/plain": [
       "                         training_hours\n",
       "target major_discipline                \n",
       "0.0    Arts                   58.780000\n",
       "       Business Degree        64.497925\n",
       "       Humanities             67.225379\n",
       "       No Major               67.714286\n",
       "       Other                  65.767025\n",
       "       STEM                   66.126437\n",
       "1.0    Arts                   65.905660\n",
       "       Business Degree        70.930233\n",
       "       Humanities             59.680851\n",
       "       No Major               48.363636\n",
       "       Other                  66.823529\n",
       "       STEM                   62.609338"
      ]
     },
     "execution_count": 60,
     "metadata": {},
     "output_type": "execute_result"
    }
   ],
   "source": [
    "pd.pivot_table(eda_data, index=['target','major_discipline',], values='training_hours')"
   ]
  },
  {
   "cell_type": "code",
   "execution_count": 61,
   "id": "49daf090",
   "metadata": {},
   "outputs": [
    {
     "data": {
      "text/html": [
       "<div>\n",
       "<style scoped>\n",
       "    .dataframe tbody tr th:only-of-type {\n",
       "        vertical-align: middle;\n",
       "    }\n",
       "\n",
       "    .dataframe tbody tr th {\n",
       "        vertical-align: top;\n",
       "    }\n",
       "\n",
       "    .dataframe thead th {\n",
       "        text-align: right;\n",
       "    }\n",
       "</style>\n",
       "<table border=\"1\" class=\"dataframe\">\n",
       "  <thead>\n",
       "    <tr style=\"text-align: right;\">\n",
       "      <th></th>\n",
       "      <th></th>\n",
       "      <th>training_hours</th>\n",
       "    </tr>\n",
       "    <tr>\n",
       "      <th>target</th>\n",
       "      <th>education_level</th>\n",
       "      <th></th>\n",
       "    </tr>\n",
       "  </thead>\n",
       "  <tbody>\n",
       "    <tr>\n",
       "      <th rowspan=\"5\" valign=\"top\">0.0</th>\n",
       "      <th>Graduate</th>\n",
       "      <td>66.687059</td>\n",
       "    </tr>\n",
       "    <tr>\n",
       "      <th>High School</th>\n",
       "      <td>66.619840</td>\n",
       "    </tr>\n",
       "    <tr>\n",
       "      <th>Masters</th>\n",
       "      <td>64.073847</td>\n",
       "    </tr>\n",
       "    <tr>\n",
       "      <th>Phd</th>\n",
       "      <td>68.379213</td>\n",
       "    </tr>\n",
       "    <tr>\n",
       "      <th>Primary School</th>\n",
       "      <td>65.685393</td>\n",
       "    </tr>\n",
       "    <tr>\n",
       "      <th rowspan=\"5\" valign=\"top\">1.0</th>\n",
       "      <th>Graduate</th>\n",
       "      <td>63.421572</td>\n",
       "    </tr>\n",
       "    <tr>\n",
       "      <th>High School</th>\n",
       "      <td>66.931472</td>\n",
       "    </tr>\n",
       "    <tr>\n",
       "      <th>Masters</th>\n",
       "      <td>60.328342</td>\n",
       "    </tr>\n",
       "    <tr>\n",
       "      <th>Phd</th>\n",
       "      <td>62.275862</td>\n",
       "    </tr>\n",
       "    <tr>\n",
       "      <th>Primary School</th>\n",
       "      <td>50.219512</td>\n",
       "    </tr>\n",
       "  </tbody>\n",
       "</table>\n",
       "</div>"
      ],
      "text/plain": [
       "                        training_hours\n",
       "target education_level                \n",
       "0.0    Graduate              66.687059\n",
       "       High School           66.619840\n",
       "       Masters               64.073847\n",
       "       Phd                   68.379213\n",
       "       Primary School        65.685393\n",
       "1.0    Graduate              63.421572\n",
       "       High School           66.931472\n",
       "       Masters               60.328342\n",
       "       Phd                   62.275862\n",
       "       Primary School        50.219512"
      ]
     },
     "execution_count": 61,
     "metadata": {},
     "output_type": "execute_result"
    }
   ],
   "source": [
    "pd.pivot_table(eda_data, index=['target','education_level',], values='training_hours')"
   ]
  },
  {
   "cell_type": "code",
   "execution_count": 78,
   "id": "aff76156",
   "metadata": {},
   "outputs": [
    {
     "data": {
      "text/html": [
       "<div>\n",
       "<style scoped>\n",
       "    .dataframe tbody tr th:only-of-type {\n",
       "        vertical-align: middle;\n",
       "    }\n",
       "\n",
       "    .dataframe tbody tr th {\n",
       "        vertical-align: top;\n",
       "    }\n",
       "\n",
       "    .dataframe thead th {\n",
       "        text-align: right;\n",
       "    }\n",
       "</style>\n",
       "<table border=\"1\" class=\"dataframe\">\n",
       "  <thead>\n",
       "    <tr style=\"text-align: right;\">\n",
       "      <th></th>\n",
       "      <th>gender</th>\n",
       "      <th>relevent_experience</th>\n",
       "      <th>enrolled_university</th>\n",
       "      <th>education_level</th>\n",
       "      <th>major_discipline</th>\n",
       "      <th>company_type</th>\n",
       "      <th>last_new_job</th>\n",
       "      <th>training_hours</th>\n",
       "      <th>target</th>\n",
       "      <th>city_id</th>\n",
       "      <th>city_dev_perc</th>\n",
       "      <th>experience_lvl</th>\n",
       "      <th>experience</th>\n",
       "      <th>company_class</th>\n",
       "    </tr>\n",
       "  </thead>\n",
       "  <tbody>\n",
       "    <tr>\n",
       "      <th>0</th>\n",
       "      <td>1</td>\n",
       "      <td>1</td>\n",
       "      <td>no_enrollment</td>\n",
       "      <td>Graduate</td>\n",
       "      <td>STEM</td>\n",
       "      <td>NaN</td>\n",
       "      <td>1</td>\n",
       "      <td>36</td>\n",
       "      <td>1.0</td>\n",
       "      <td>103</td>\n",
       "      <td>92.0</td>\n",
       "      <td>expert_lvl</td>\n",
       "      <td>&gt;20</td>\n",
       "      <td>unknown</td>\n",
       "    </tr>\n",
       "    <tr>\n",
       "      <th>1</th>\n",
       "      <td>1</td>\n",
       "      <td>0</td>\n",
       "      <td>no_enrollment</td>\n",
       "      <td>Graduate</td>\n",
       "      <td>STEM</td>\n",
       "      <td>Pvt Ltd</td>\n",
       "      <td>&gt;4</td>\n",
       "      <td>47</td>\n",
       "      <td>0.0</td>\n",
       "      <td>40</td>\n",
       "      <td>77.6</td>\n",
       "      <td>expert_lvl</td>\n",
       "      <td>15</td>\n",
       "      <td>small_company</td>\n",
       "    </tr>\n",
       "    <tr>\n",
       "      <th>2</th>\n",
       "      <td>0</td>\n",
       "      <td>0</td>\n",
       "      <td>Full time course</td>\n",
       "      <td>Graduate</td>\n",
       "      <td>STEM</td>\n",
       "      <td>NaN</td>\n",
       "      <td>0</td>\n",
       "      <td>83</td>\n",
       "      <td>0.0</td>\n",
       "      <td>21</td>\n",
       "      <td>62.4</td>\n",
       "      <td>mid_lvl</td>\n",
       "      <td>5</td>\n",
       "      <td>unknown</td>\n",
       "    </tr>\n",
       "    <tr>\n",
       "      <th>3</th>\n",
       "      <td>0</td>\n",
       "      <td>0</td>\n",
       "      <td>NaN</td>\n",
       "      <td>Graduate</td>\n",
       "      <td>Business Degree</td>\n",
       "      <td>Pvt Ltd</td>\n",
       "      <td>0</td>\n",
       "      <td>52</td>\n",
       "      <td>1.0</td>\n",
       "      <td>115</td>\n",
       "      <td>78.9</td>\n",
       "      <td>entry_lvl</td>\n",
       "      <td>&lt;1</td>\n",
       "      <td>unknown</td>\n",
       "    </tr>\n",
       "    <tr>\n",
       "      <th>4</th>\n",
       "      <td>1</td>\n",
       "      <td>1</td>\n",
       "      <td>no_enrollment</td>\n",
       "      <td>Masters</td>\n",
       "      <td>STEM</td>\n",
       "      <td>Funded Startup</td>\n",
       "      <td>4</td>\n",
       "      <td>8</td>\n",
       "      <td>0.0</td>\n",
       "      <td>162</td>\n",
       "      <td>76.7</td>\n",
       "      <td>expert_lvl</td>\n",
       "      <td>&gt;20</td>\n",
       "      <td>small_company</td>\n",
       "    </tr>\n",
       "    <tr>\n",
       "      <th>...</th>\n",
       "      <td>...</td>\n",
       "      <td>...</td>\n",
       "      <td>...</td>\n",
       "      <td>...</td>\n",
       "      <td>...</td>\n",
       "      <td>...</td>\n",
       "      <td>...</td>\n",
       "      <td>...</td>\n",
       "      <td>...</td>\n",
       "      <td>...</td>\n",
       "      <td>...</td>\n",
       "      <td>...</td>\n",
       "      <td>...</td>\n",
       "      <td>...</td>\n",
       "    </tr>\n",
       "    <tr>\n",
       "      <th>21282</th>\n",
       "      <td>1</td>\n",
       "      <td>0</td>\n",
       "      <td>no_enrollment</td>\n",
       "      <td>Graduate</td>\n",
       "      <td>Humanities</td>\n",
       "      <td>Public Sector</td>\n",
       "      <td>4</td>\n",
       "      <td>15</td>\n",
       "      <td>NaN</td>\n",
       "      <td>103</td>\n",
       "      <td>92.0</td>\n",
       "      <td>expert_lvl</td>\n",
       "      <td>16</td>\n",
       "      <td>unknown</td>\n",
       "    </tr>\n",
       "    <tr>\n",
       "      <th>21283</th>\n",
       "      <td>1</td>\n",
       "      <td>1</td>\n",
       "      <td>no_enrollment</td>\n",
       "      <td>Masters</td>\n",
       "      <td>STEM</td>\n",
       "      <td>NaN</td>\n",
       "      <td>2</td>\n",
       "      <td>30</td>\n",
       "      <td>NaN</td>\n",
       "      <td>136</td>\n",
       "      <td>89.7</td>\n",
       "      <td>expert_lvl</td>\n",
       "      <td>18</td>\n",
       "      <td>unknown</td>\n",
       "    </tr>\n",
       "    <tr>\n",
       "      <th>21284</th>\n",
       "      <td>1</td>\n",
       "      <td>0</td>\n",
       "      <td>no_enrollment</td>\n",
       "      <td>Primary School</td>\n",
       "      <td>NaN</td>\n",
       "      <td>Pvt Ltd</td>\n",
       "      <td>0</td>\n",
       "      <td>18</td>\n",
       "      <td>NaN</td>\n",
       "      <td>100</td>\n",
       "      <td>88.7</td>\n",
       "      <td>mid_lvl</td>\n",
       "      <td>3</td>\n",
       "      <td>unknown</td>\n",
       "    </tr>\n",
       "    <tr>\n",
       "      <th>21285</th>\n",
       "      <td>1</td>\n",
       "      <td>1</td>\n",
       "      <td>Full time course</td>\n",
       "      <td>High School</td>\n",
       "      <td>NaN</td>\n",
       "      <td>Public Sector</td>\n",
       "      <td>1</td>\n",
       "      <td>84</td>\n",
       "      <td>NaN</td>\n",
       "      <td>102</td>\n",
       "      <td>80.4</td>\n",
       "      <td>mid_lvl</td>\n",
       "      <td>7</td>\n",
       "      <td>mid_size_company</td>\n",
       "    </tr>\n",
       "    <tr>\n",
       "      <th>21286</th>\n",
       "      <td>1</td>\n",
       "      <td>1</td>\n",
       "      <td>no_enrollment</td>\n",
       "      <td>Masters</td>\n",
       "      <td>STEM</td>\n",
       "      <td>Pvt Ltd</td>\n",
       "      <td>2</td>\n",
       "      <td>11</td>\n",
       "      <td>NaN</td>\n",
       "      <td>102</td>\n",
       "      <td>80.4</td>\n",
       "      <td>expert_lvl</td>\n",
       "      <td>15</td>\n",
       "      <td>very_large_company</td>\n",
       "    </tr>\n",
       "  </tbody>\n",
       "</table>\n",
       "<p>21287 rows × 14 columns</p>\n",
       "</div>"
      ],
      "text/plain": [
       "       gender  relevent_experience enrolled_university education_level  \\\n",
       "0           1                    1       no_enrollment        Graduate   \n",
       "1           1                    0       no_enrollment        Graduate   \n",
       "2           0                    0    Full time course        Graduate   \n",
       "3           0                    0                 NaN        Graduate   \n",
       "4           1                    1       no_enrollment         Masters   \n",
       "...       ...                  ...                 ...             ...   \n",
       "21282       1                    0       no_enrollment        Graduate   \n",
       "21283       1                    1       no_enrollment         Masters   \n",
       "21284       1                    0       no_enrollment  Primary School   \n",
       "21285       1                    1    Full time course     High School   \n",
       "21286       1                    1       no_enrollment         Masters   \n",
       "\n",
       "      major_discipline    company_type last_new_job  training_hours  target  \\\n",
       "0                 STEM             NaN            1              36     1.0   \n",
       "1                 STEM         Pvt Ltd           >4              47     0.0   \n",
       "2                 STEM             NaN            0              83     0.0   \n",
       "3      Business Degree         Pvt Ltd            0              52     1.0   \n",
       "4                 STEM  Funded Startup            4               8     0.0   \n",
       "...                ...             ...          ...             ...     ...   \n",
       "21282       Humanities   Public Sector            4              15     NaN   \n",
       "21283             STEM             NaN            2              30     NaN   \n",
       "21284              NaN         Pvt Ltd            0              18     NaN   \n",
       "21285              NaN   Public Sector            1              84     NaN   \n",
       "21286             STEM         Pvt Ltd            2              11     NaN   \n",
       "\n",
       "       city_id  city_dev_perc experience_lvl experience       company_class  \n",
       "0          103           92.0     expert_lvl        >20             unknown  \n",
       "1           40           77.6     expert_lvl         15       small_company  \n",
       "2           21           62.4        mid_lvl          5             unknown  \n",
       "3          115           78.9      entry_lvl         <1             unknown  \n",
       "4          162           76.7     expert_lvl        >20       small_company  \n",
       "...        ...            ...            ...        ...                 ...  \n",
       "21282      103           92.0     expert_lvl         16             unknown  \n",
       "21283      136           89.7     expert_lvl         18             unknown  \n",
       "21284      100           88.7        mid_lvl          3             unknown  \n",
       "21285      102           80.4        mid_lvl          7    mid_size_company  \n",
       "21286      102           80.4     expert_lvl         15  very_large_company  \n",
       "\n",
       "[21287 rows x 14 columns]"
      ]
     },
     "execution_count": 78,
     "metadata": {},
     "output_type": "execute_result"
    }
   ],
   "source": [
    "eda_df"
   ]
  },
  {
   "cell_type": "markdown",
   "id": "e47425a1",
   "metadata": {},
   "source": [
    "\n",
    "\n",
    "\n"
   ]
  },
  {
   "cell_type": "code",
   "execution_count": 80,
   "id": "16ee7330",
   "metadata": {},
   "outputs": [],
   "source": [
    "model_df = eda_df.drop(columns = 'experience')"
   ]
  },
  {
   "cell_type": "code",
   "execution_count": 82,
   "id": "70327adc",
   "metadata": {},
   "outputs": [],
   "source": [
    "model_df = model_df[model_df['target'].notna()]"
   ]
  },
  {
   "cell_type": "code",
   "execution_count": 85,
   "id": "6f54c217",
   "metadata": {},
   "outputs": [],
   "source": [
    "model_df.to_csv('model_df.csv')"
   ]
  }
 ],
 "metadata": {
  "kernelspec": {
   "display_name": "Python 3",
   "language": "python",
   "name": "python3"
  },
  "language_info": {
   "codemirror_mode": {
    "name": "ipython",
    "version": 3
   },
   "file_extension": ".py",
   "mimetype": "text/x-python",
   "name": "python",
   "nbconvert_exporter": "python",
   "pygments_lexer": "ipython3",
   "version": "3.8.8"
  }
 },
 "nbformat": 4,
 "nbformat_minor": 5
}
